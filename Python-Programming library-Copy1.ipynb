{
 "cells": [
  {
   "cell_type": "markdown",
   "metadata": {},
   "source": [
    "//Programming python-Oriely  ||Python for data analysis\n",
    "***\n",
    "1 What Is Programming? Why Python?\n",
    "||IPython p41\n",
    "2 Variables: Operations and Input/Output\n",
    "3Conditionals and Boolean Expressions\n",
    "4Basic Program Development and Testing\n",
    "5Loops and Iterations\n",
    "***\n",
    "6Files and Strings\n",
    "|| Data laoding, storage & File formats\n",
    "7 Operations with Lists\n",
    "8Top-Down Design of a Data Analysis Program\n",
    "|| Numpy Arrays, vectorization\n",
    "|| Pandas -Series, dataframe, index objects\n",
    "|| Pandas -Descriptive statistics, \n",
    "|| Pandas - missing data, Hierachical indexing\n",
    "|| Data wrangling - clean, transform, merge, reshape\n",
    "//text and language-string methods, regular expressions, Parsing, pyCAL\n",
    "|| Data agregation - groupby, pivottables, \n",
    "|| Time-series Plotting\n",
    "|| Advanced Numpy - Array manipulation, Broadcasting, ufunc, structured & record arrays, sorting, matrix class, \n",
    "***\n",
    "9Functions and Abstraction\n",
    "10 Parameter Passing, Scope, and Mutable Data\n",
    "11 Error Types, Systematic Debugging, Exceptions\n",
    "***\n",
    "%%13 Game Design with Functions\n",
    "14Bottom-Up Design, Turtle Graphics, Robotics\n",
    "***\n",
    "15Event-Driven Programming --Functional Programming(Lamda Functions)\n",
    "***\n",
    "|| Plotting & Visulaization\n",
    "16Visualizing Data and Creating Simulations\n",
    "***\n",
    "17Classes and Object-Oriented Programming//\n",
    "18Objects with Inheritance and Polymorphism//\n",
    "***\n",
    "18.5/Refactoring Code; Testing(Black-box, ..)\n",
    "***\n",
    "/Adding Persistence \n",
    "/Other Database Options\n",
    "19Data Structures: Stack, Queue, Dictionary, Set/ /Representing Records-Dictionaries\n",
    "19.5/Storing Records Persistently\n",
    "//Databases and persistence\n",
    "***\n",
    "20Algorithms: Searching and Sorting\n",
    "21Recursion and Running Times\n",
    "@ 22Graphs and Trees,Graph Search and a Word Game/@//datastructures - stacks, sets, subclassing, binary search trees, graph searching, permuting sequences, reverse/sort\n",
    "***\n",
    "@ 24Parallel Computing Is Here\n",
    "//parallel system tools p177\n",
    "***\n",
    "@ python C integration-Numba (@jit) \n",
    "||Cython pg 378\n",
    "|| f2py p378\n",
    "|| C pg 378\n",
    "***\n",
    "//Adding Console Interactionp37\n",
    "//GUI p355\n",
    "//Web interface\n",
    "***\n",
    "//System programmingp73\n",
    "//Script execution\n",
    "//FIle & directory tools p4\n",
    "//system programs p6\n",
    "***\n",
    "//Internet/network scripting\n",
    "//internet/client-side scripting\n",
    "//internet/pyMail GUi client\n",
    "//Server-sde scripting\n",
    "//internet/pymail GUI server\n",
    "\n",
    "***\n",
    "API - get data\n",
    "\n"
   ]
  },
  {
   "cell_type": "code",
   "execution_count": null,
   "metadata": {
    "collapsed": true
   },
   "outputs": [],
   "source": [
    "## programming general"
   ]
  },
  {
   "cell_type": "markdown",
   "metadata": {
    "collapsed": true
   },
   "source": [
    "Declarative knowledge refers to statements of fact\n",
    "Imperative knowledge refers to 'how to' methods. \n",
    "An algorithm is a conceptual idea\n",
    "program is a concrete instantiation of an algorithm."
   ]
  },
  {
   "cell_type": "code",
   "execution_count": null,
   "metadata": {
    "collapsed": true
   },
   "outputs": [],
   "source": [
    "# Include pictures from web\n",
    "<img src = 'http://i.stack.imgur.com/sKS1u.jpg', width = 800>"
   ]
  },
  {
   "cell_type": "markdown",
   "metadata": {},
   "source": [
    "## Resources/cheatsheets:"
   ]
  },
  {
   "cell_type": "markdown",
   "metadata": {},
   "source": [
    "•\tPython 2.7 Quick Reference Sheet http://www.astro.up.pt/~sousasag/Python_For_Astronomers/Python_qr.pdf\n",
    "•\tPython Cheat Sheet by DaveChild http://www.cheatography.com/davechild/cheat-sheets/python/\n",
    "•\tPython Basics Reference sheet http://www.cogsci.rpi.edu/~destem/igd/python_cheat_sheet.pdf\n",
    "•\tPython Debugger Cheatsheet  http://nblock.org/2011/11/15/pdb-cheatsheet/\n",
    "•\tNumPy / SciPy / Pandas Cheat Sheet  https://s3.amazonaws.com/quandl-static-content/Documents/Quandl+-+Pandas,+SciPy,+NumPy+Cheat+Sheet.pdf\n",
    "•\tPython OverAPI cheatsheet  http://overapi.com/python/\n",
    "•\tPython Decorators cheatsheet http://hairysun.com/downloads/DecoratorHandout.pdf\n",
    "•\tPython 2.4 Quick Reference Card  http://www.cheat-sheets.org/saved-copy/PQRC-2.4-A4-latest.pdf\n",
    "•\tPython 3 Cheat Sheet   https://perso.limsi.fr/pointal/_media/python:cours:mementopython3-english.pdf\n",
    "•\tPython Language & Syntax Cheat Sheet  http://ddi.ifi.lmu.de/probestudium/2013/ws-i-3d-programmierung/tutorials/python-referenzkarte\n"
   ]
  },
  {
   "cell_type": "markdown",
   "metadata": {},
   "source": [
    "## resources/modules"
   ]
  },
  {
   "cell_type": "code",
   "execution_count": null,
   "metadata": {
    "collapsed": true
   },
   "outputs": [],
   "source": [
    "#Pandas\n",
    "https://speakerdeck.com/datasciencela/john-fries-pandas-pydsla-meetup-nov-2014  \n"
   ]
  },
  {
   "cell_type": "code",
   "execution_count": 8,
   "metadata": {
    "collapsed": true
   },
   "outputs": [],
   "source": [
    "### version information"
   ]
  },
  {
   "cell_type": "code",
   "execution_count": null,
   "metadata": {
    "collapsed": true
   },
   "outputs": [],
   "source": [
    "useful libraries"
   ]
  },
  {
   "cell_type": "code",
   "execution_count": null,
   "metadata": {
    "collapsed": true
   },
   "outputs": [],
   "source": [
    "Math\t\t\tmath.sqrt()\n",
    "Random\t\t      random.choice([list])\t   random.randint(1, 5)\n",
    "\t\t      random.seed(0) \t\t# random results are repeatable\n",
    "\t\t\trandom.random()\t    #returns a number between 0,1  (Always positive)\n",
    "\n",
    "To completely reset between runs, you will have to restart the kernel via the menu option (Run -> Restart Kernel)\n",
    "\n",
    "#security increases as the length of the seed increases (psudeorandom)\n",
    "\n",
    "\t\t\tRange(x,y)\n"
   ]
  },
  {
   "cell_type": "code",
   "execution_count": null,
   "metadata": {
    "collapsed": true
   },
   "outputs": [],
   "source": [
    "print ‘Python version ‘+sys.version\n",
    "print ‘Pandas version: “+ pd.__version__\n",
    "print “Ipython version:”, IPython.__version__\n"
   ]
  },
  {
   "cell_type": "code",
   "execution_count": 3,
   "metadata": {
    "collapsed": true
   },
   "outputs": [],
   "source": [
    "### script formatting & print "
   ]
  },
  {
   "cell_type": "code",
   "execution_count": null,
   "metadata": {
    "collapsed": true
   },
   "outputs": [],
   "source": [
    "Line continuation - \\\n",
    "#Print\n",
    "Print “# of silly”  str(xxx) + ‘”+str(antoher) + \n",
    "#print new line\n",
    "print('\\n')"
   ]
  },
  {
   "cell_type": "code",
   "execution_count": null,
   "metadata": {
    "collapsed": true
   },
   "outputs": [],
   "source": [
    "#COmments\n",
    "    '''\n",
    "    x: int or float.\n",
    "    '''"
   ]
  },
  {
   "cell_type": "raw",
   "metadata": {},
   "source": [
    "1 What Is Programming? Why Python? ||IPython p41 2 Variables: Operations and Input/Output 3Conditionals and Boolean Expressions 4Basic Program Development and Testing 5Loops and Iterations"
   ]
  },
  {
   "cell_type": "code",
   "execution_count": null,
   "metadata": {
    "collapsed": true
   },
   "outputs": [],
   "source": [
    "#Variables\n",
    "\n",
    "Strings-str1 = 'hello'; \"a\" + \"bc\"; \"ab\"=abcd\"[0:2] or \"abcd\"[:2]\n",
    "\n",
    "> str4 = 'hello'+'world'\n",
    "str4[::-1]='dlrowolleh'\n",
    "\n",
    "\n",
    "#Note: The Python 'None' keyword\n",
    "In Python, the keyword None is frequently used to represent the absence of a value. None is the only value in Python of type NoneType.\n"
   ]
  },
  {
   "cell_type": "code",
   "execution_count": null,
   "metadata": {
    "collapsed": true
   },
   "outputs": [],
   "source": [
    "#Operations\n",
    "Equal  \t\t==\n",
    "Division – use float() in the denominator  i.e. X/float (X)\n",
    "10.0/3.0=3.3333333335\n",
    "10/3=3\n",
    "Squared **\n",
    "\n",
    "#Note: What does +=, -=, *=, /= stand for? \n",
    "a += b is equivalent to a = a + b\n",
    "a -= b is equivalent to a = a - b\n",
    "a *= b is equivalent to a = a * b\n",
    "a /= b is equivalent to a = a / b\n"
   ]
  },
  {
   "cell_type": "code",
   "execution_count": null,
   "metadata": {
    "collapsed": true
   },
   "outputs": [],
   "source": [
    "#Input/output"
   ]
  },
  {
   "cell_type": "code",
   "execution_count": null,
   "metadata": {
    "collapsed": true
   },
   "outputs": [],
   "source": [
    "#Conditionals and Boolean\n",
    "##1:If-else\n",
    "if (len(word) > 0):\t\t#brackets after if\n",
    "        curr = word[0]\n",
    "    else:\n",
    "##2:\n",
    "if var == \"panda\":\n",
    "   print \"Cute!\"\n",
    "elif var == \"Panda\":\n",
    "   print \"Regal!\"\n",
    "else:\n",
    "   print \"Ugly...\"\n",
    "    \n",
    "#Boolean\n",
    ".isDigit\n",
    "\n",
    "    #\n",
    "    \n"
   ]
  },
  {
   "cell_type": "code",
   "execution_count": null,
   "metadata": {
    "collapsed": true
   },
   "outputs": [],
   "source": []
  },
  {
   "cell_type": "code",
   "execution_count": null,
   "metadata": {
    "collapsed": true
   },
   "outputs": [],
   "source": [
    "#Basic Program Development and testing"
   ]
  },
  {
   "cell_type": "code",
   "execution_count": null,
   "metadata": {
    "collapsed": true
   },
   "outputs": [],
   "source": []
  },
  {
   "cell_type": "code",
   "execution_count": 6,
   "metadata": {
    "collapsed": true
   },
   "outputs": [],
   "source": [
    "#Loops and Iterations"
   ]
  },
  {
   "cell_type": "code",
   "execution_count": null,
   "metadata": {
    "collapsed": true
   },
   "outputs": [],
   "source": [
    "\n",
    "\n",
    "#For\n",
    "for letter in word:\n",
    "for char in myStr:\n",
    "    print char\n",
    "for num in range(5):\n",
    "for num in range(0, 10, 2):\n",
    "for letter in 'hola':\n",
    "for num in range(1,end+1):\n",
    "    \n",
    "#While\n",
    "\n",
    "while iteration < 5:\n"
   ]
  },
  {
   "cell_type": "raw",
   "metadata": {},
   "source": [
    "6Files and Strings || Data laoding, storage & File formats 7 Operations with Lists 8Top-Down Design of a Data Analysis Program || Numpy Arrays, vectorization || Pandas -Series, dataframe, index objects || Pandas -Descriptive statistics, || Pandas - missing data, Hierachical indexing || Data wrangling - clean, transform, merge, reshape //text and language-string methods, regular expressions, Parsing, pyCAL || Data agregation - groupby, pivottables, || Time-series Plotting || Advanced Numpy - Array manipulation, Broadcasting, ufunc, structured & record arrays, sorting, matrix class,"
   ]
  },
  {
   "cell_type": "code",
   "execution_count": null,
   "metadata": {
    "collapsed": true
   },
   "outputs": [],
   "source": [
    "#Python docs on file objects \n",
    "http://docs.python.org/2/tutorial/inputoutput.html#methods-of-file-objects  \n"
   ]
  },
  {
   "cell_type": "code",
   "execution_count": 5,
   "metadata": {
    "collapsed": true
   },
   "outputs": [],
   "source": [
    "#Read in file\n",
    "\n",
    "inFile = open('julyTemps.txt')\n",
    "\n",
    "PATH_TO_FILE = 'C:/Users/Ana/Documents/ps1/words.txt'\n",
    "inFile = open(PATH_TO_FILE, 'r', 0)\n",
    "    line = inFile.readline()\n"
   ]
  },
  {
   "cell_type": "code",
   "execution_count": null,
   "metadata": {
    "collapsed": true
   },
   "outputs": [],
   "source": [
    "#Strings\n",
    "##import string\n",
    "fields = line.split(\" \")\n",
    "wordlist = string.split(line)\n",
    "\n",
    "##Exclude lines\n",
    "excludes lines -        if len(fields) != 3 or 'Boston' == fields[0] or 'Day' == fields[0]:\n",
    "            continue\n",
    "    \n",
    "##string methods\n",
    "https://docs.python.org/2/library/stdtypes.html#string-methods"
   ]
  },
  {
   "cell_type": "code",
   "execution_count": null,
   "metadata": {
    "collapsed": true
   },
   "outputs": [],
   "source": [
    "#Lists\n",
    "Empty list\t\t[]\n",
    "Add to list\t\tvalues.append(principal)\n",
    "len(), min(), max(), del[i], .lappend(), l.extend(0, l.count(), l.index(), I.insert(), I.opo(), I.remove(), I.reverse(), I.sort()\n",
    "Foo [-1]\t\t\t#get the last word in the list, if Foo is a list.\n",
    "\n",
    "range(3, 10, 3)=[3,6,9]\n",
    "range(10, 3, -1)=[10, 9, 8, 7, 6, 5, 4]\n",
    "                                                  \n",
    "listA.sort(), listA.remove(3), listA.append(7), listB.count('a'), listA.index(1), listA.reverse()\n",
    "                                                  \n",
    "                                                  \n",
    "                                                  "
   ]
  },
  {
   "cell_type": "raw",
   "metadata": {},
   "source": [
    "#Tuple \n",
    "(3, 'John', 4)\n",
    "When a tuple has only one element, you must specify it as follows: (elt,)\n",
    "\n",
    "\n"
   ]
  },
  {
   "cell_type": "code",
   "execution_count": 10,
   "metadata": {
    "collapsed": false
   },
   "outputs": [
    {
     "ename": "ERROR",
     "evalue": "Error in parse(text = x, srcfile = src): <text>:1:7: unexpected ','\n1: x = (1,\n          ^\n",
     "output_type": "error",
     "traceback": [
      "Error in parse(text = x, srcfile = src): <text>:1:7: unexpected ','\n1: x = (1,\n          ^\n"
     ]
    }
   ],
   "source": [
    "x = (1, 2, (3, 'John', 4), 'Hi')\n",
    "x[2][2]\n"
   ]
  },
  {
   "cell_type": "code",
   "execution_count": null,
   "metadata": {
    "collapsed": true
   },
   "outputs": [],
   "source": [
    "#dictionary\n",
    "animals = {'a': 'aardvark', 'b': 'baboon', 'c': 'coati'}\n",
    "animals['d'] = 'donkey'\n",
    "animals.has_key('baboon')=FALSE\n",
    "'donkey' in animals.values()=TRUE\n",
    "del animals['b']\n",
    "animals.values()\n",
    "animals['d'].append('dog')\n"
   ]
  },
  {
   "cell_type": "code",
   "execution_count": null,
   "metadata": {
    "collapsed": true
   },
   "outputs": [],
   "source": [
    "#Numpy\n",
    "import numpy as np\n",
    "\n",
    "diffTemps = list(np.array(highTemps) - np.array(lowTemps))\n"
   ]
  },
  {
   "cell_type": "code",
   "execution_count": null,
   "metadata": {
    "collapsed": true
   },
   "outputs": [],
   "source": [
    "#Regular Expressions\n",
    "\n",
    "Test for regular expressions code online:  https://regex101.com/#python\n",
    "\n",
    "\t\n",
    "Python \"re\" module\n",
    "\n",
    "Search\n",
    "match = re.search(pat, str) \t\n",
    "# pattern and a string and searches for that pattern within the string\n",
    "\n",
    "search is usually immediately followed by an if-statement to test if the search succeeded\n",
    "\n",
    "\n",
    "str = 'an example word:cat!!'\n",
    "match = re.search(r'word:\\w\\w\\w', str)\n",
    "# If-statement after search() tests if it succeeded\n",
    "  if match:                      \n",
    "    print 'found', match.group() ## 'found word:cat'\n",
    "  else:\n",
    "    print 'did not find'\n",
    "\n",
    "\n",
    "'r' at the start of the pattern string designates a python \"raw\" string\n",
    "\n",
    "Basic Patterns\n",
    "\n",
    "a, X, 9, < -- ordinary characters\n",
    " just match themselves exactly\n",
    "\n",
    "meta-characters: . ^ $ * + ? { [ ] \\ | ( );  \n",
    "which do not match themselves because they have special meanings\n",
    "\n",
    ". (a period) \n",
    "matches any single character except newline '\\n' \n",
    "\n",
    "\\w \n",
    "-- (lowercase w) matches a \"word\" character: a letter or digit or underbar [a-zA-Z0-9_]. Note that although \"word\" is the mnemonic for this, it only matches a single word char, not a whole word. \\W (upper case W) matches any non-word character. \n",
    "\n",
    "\\b \n",
    "boundary between word and non-word \n",
    "\n",
    "\\s \n",
    "(lowercase s) matches a single whitespace character -- space, newline, return, tab, form [ \\n\\r\\t\\f]. \\S (upper case S) matches any non-whitespace character. \n",
    "\n",
    "\\t, \\n, \\r \n",
    "tab, newline, return  \n",
    "\n",
    "\\d\n",
    "-- decimal digit [0-9] (some older regex utilities do not support but \\d, but they all support \\w and \\s)\n",
    "\n",
    "      -    ^ = start, $ = end\n",
    "-- match the start or end of the string \n",
    "\n",
    "  \\ \n",
    "-- inhibit the \"specialness\" of a character. So, for example, use \\. to match a period or \\\\ to match a slash. If you are unsure if a character has special meaning, such as '@', you can put a slash in front of it, \\@, to make sure it is treated just as a character.\n",
    "\n",
    "Repetition\n",
    "+ \n",
    "-- 1 or more occurrences of the pattern to its left, e.g. 'i+' = one or more i's \n",
    "* \n",
    "-- 0 or more occurrences of the pattern to its left \n",
    "? \n",
    "-- match 0 or 1 occurrences of the pattern to its left \n",
    "\n",
    "\n",
    "Square Brackets (or, range, except)\n",
    "set of chars, so [abc] matches 'a' or 'b' or 'c'. The codes \\w, \\s etc. work inside square brackets too with the one exception that dot (.) just means a literal dot.\n",
    "\n",
    "You can also use a dash(-) to indicate a range, so [a-z] matches all lowercase letters.\n",
    "\n",
    "An up-hat (^) at the start of a square-bracket set inverts it, so [^ab] means any char except 'a' or 'b'.\n",
    "\n",
    "Group Feature\n",
    "\n",
    "pick out parts of the matching text\n",
    "extract the username and host separately\n",
    "add parenthesis ( ) around the username and host in the pattern, like this: \n",
    "r'([\\w.-]+)@([\\w.-]+)'.\n",
    "\n",
    "str = 'purple alice-b@google.com monkey dishwasher'\n",
    "  match = re.search('([\\w.-]+)@([\\w.-]+)', str)\n",
    "  if match:\n",
    "    print match.group()   ## 'alice-b@google.com' (the whole match)\n",
    "    print match.group(1)  ## 'alice-b' (the username, group 1)\n",
    "    print match.group(2)  ## 'google.com' (the host, group 2)\n",
    "\n",
    "findall()\n",
    "finds *all* the matches and returns them as a list of strings, with each string representing one match.\n",
    "\n",
    "## Suppose we have a text with many email addresses\n",
    "  str = 'purple alice@google.com, blah monkey bob@abc.com blah dishwasher'\n",
    "\n",
    "  ## Here re.findall() returns a list of all the found email strings\n",
    "  emails = re.findall(r'[\\w\\.-]+@[\\w\\.-]+', str) ## ['alice@google.com', 'bob@abc.com']\n",
    "  for email in emails:\n",
    "    # do something with each found email string\n",
    "    print email\n",
    "\n",
    "findall() and Files\n",
    "\n",
    "# Open file\n",
    "  f = open('test.txt', 'r')\n",
    "  # Feed the file text into findall(); it returns a list of all the found strings\n",
    "  strings = re.findall(r'some pattern', f.read())\n",
    "\n",
    "findall() and groups  (eg. Extracting tuples  - all groups of type def. by () )\n",
    "\n",
    "str = 'purple alice@google.com, blah monkey bob@abc.com blah dishwasher'\n",
    "  tuples = re.findall(r'([\\w\\.-]+)@([\\w\\.-]+)', str)\n",
    "  print tuples  ## [('alice', 'google.com'), ('bob', 'abc.com')]\n",
    "  for tuple in tuples:\n",
    "    print tuple[0]  ## username\n",
    "    print tuple[1]  ## host\n",
    "\n",
    "Debug \n",
    "If the pattern matches nothing, try weakening the pattern, removing parts of it so you get too many matches.\n",
    "\n",
    "Options to search() or findall() etc., \n",
    "e.g. re.search(pat, str, re.IGNORECASE).\n",
    "\n",
    "IGNORECASE \n",
    "-- ignore upper/lowercase differences for matching, so 'a' matches both 'a' and 'A'. \n",
    "\n",
    "DOTALL \n",
    "-- allow dot (.) to match newline -- normally it matches anything but newline. This can trip you up -- you think .* matches everything, but by default it does not go past the end of a line. Note that \\s (whitespace) includes newlines, so if you want to match a run of whitespace that may include a newline, you can just use \\s* \n",
    "\n",
    "MULTILINE \n",
    "-- Within a string made of many lines, allow ^ and $ to match the start and end of each line. Normally ^/$ would just match the start and end of the whole string. \n",
    "\n",
    "Greedy vs. Non-greedy\n",
    "Suppose you have text with tags in it: <b>foo</b> and <i>so on</i>  Suppose you are trying to match each tag with the pattern '(<.*>)' -- what does it match first? .* causes it to match the whole '<b>foo</b> and <i>so on</i>' as one big match.\n",
    ".* goes as far as is it can, instead of stopping at the first > (aka it is \"greedy\").\n",
    "add a ? at the end, such as .*? or .+?, changing them to be non-greedy.\n",
    "\n",
    "Substitution\n",
    "\n",
    "The re.sub(pat, replacement, str) function searches for all the instances of pattern in the given string, and replaces them.\n",
    "\n",
    "Examples:\n",
    "match = re.search(r'iii', 'piiig') =>  found, match.group() == \"iii\"\n",
    "match = re.search(r'igs', 'piiig') =>  not found, match == None\n",
    "match = re.search(r'..g', 'piiig') =>  found, match.group() == \"iig\"      \n",
    "%.. any\n",
    "\n",
    "match = re.search(r'\\d\\d\\d', 'p123g') =>  found, match.group() == \"123\"   %d=digital\n",
    "  match = re.search(r'\\w\\w\\w', '@@abcd!!') =>  found, match.group() == \"abc\"  %w=word\n",
    "\n",
    "match = re.search(r'pi+', 'piiig') =>  found, match.group() == \"piii\"\n",
    "% one or more i’s\n",
    "\n",
    "match = re.search(r'i+', 'piigiiii') =>  found, match.group() == \"ii\"\n",
    "\n",
    "leftmost solution only\n",
    "match = re.search(r'\\d\\s*\\d\\s*\\d', 'xx1 2   3xx') =>  found, match.group() == \"1 2   3\"\n",
    "  match = re.search(r'\\d\\s*\\d\\s*\\d', 'xx12  3xx') =>  found, match.group() == \"12  3\"\n",
    "  match = re.search(r'\\d\\s*\\d\\s*\\d', 'xx123xx') =>  found, match.group() == \"123\"\n",
    "%  \\s* = zero or more whitespace\n",
    "\n",
    "match = re.search(r'b\\w+', 'foobar') =>  found, match.group() == \"bar\"\n",
    "% everthing to the left of “b”\n",
    "\n",
    "match = re.search(r'^b\\w+', 'foobar') =>  not found, match == None\n",
    "% ^ - match exactly at start of word\n",
    "\n",
    "find the email address inside the string 'xyz alice-b@google.com purple monkey'.\n",
    "str = 'purple alice-b@google.com monkey dishwasher'\n",
    "  match = re.search(r'\\w+@\\w+', str)\n",
    "  if match:\n",
    "    print match.group()  ## 'b@google'\n",
    "%missing the “-“\n",
    "\n",
    "r'\\w+@\\w+’\n",
    "r'[\\w.-]+@[\\w.-]+'           %  word or “.” or “-“\n",
    "\n",
    "match = re.search(r'[\\w.-]+@[\\w.-]+', str)\n",
    "  if match:\n",
    "    print match.group()  ## 'alice-b@google.com'\n"
   ]
  },
  {
   "cell_type": "code",
   "execution_count": null,
   "metadata": {
    "collapsed": true
   },
   "outputs": [],
   "source": []
  },
  {
   "cell_type": "raw",
   "metadata": {},
   "source": [
    "9Functions and Abstraction 10 Parameter Passing, Scope, and Mutable Data 11 Error Types, Systematic Debugging, Exceptions"
   ]
  },
  {
   "cell_type": "code",
   "execution_count": 7,
   "metadata": {
    "collapsed": true
   },
   "outputs": [],
   "source": [
    "#Functions\n",
    "def addS(x):\n",
    "    return x + 's'\n",
    "def functionanme(var1,var2)\n",
    "\tFunction block\n",
    "#Run function in script\n",
    "def loadWords():\n",
    "\t‘function block’\n",
    "return wordlist\n",
    "#Return options\n",
    "return x >= y and x <= z\n",
    "return min(max(x, lo), hi)\n",
    "return (x % 2 == 1)  #returns TRUE or FALSE\n",
    "\n",
    "        \n",
    "loadWords()\n",
    "\n",
    "#Functions with many parameters (Set Default Parameter Values)\n",
    "Def function(something, anthotherThing, cansOfSpam=10, randomInd=True, isFurry=None)\n",
    "\tFunction block\n",
    "##Note: \n",
    "•\t#Parameter ordering - Keyword assignments (cansOfSpam=10) must occur after list of variables (either # only if in order, or specify something=’cat’)\n",
    "•\t#It is dangerous to use a mutable type (eg a list, dictionary) as a default value eg. =[]\n",
    "\n",
    "#Optional and named arguments\n",
    "    http://www.diveintopython.net/power_of_introspection/optional_arguments.html\n"
   ]
  },
  {
   "cell_type": "code",
   "execution_count": null,
   "metadata": {
    "collapsed": true
   },
   "outputs": [],
   "source": [
    "# Recursion\n",
    "def recurPower(base, exp):  #base^exp\n",
    "    '''\n",
    "    base: int or float.\n",
    "    exp: int >= 0\n",
    "    returns: int or float, base^exp\n",
    "    '''\n",
    "  # Base case is when exp== 0\n",
    "    if exp==0:\n",
    "        return 1\n",
    "    else: \n",
    "        return base* recurPower (base, exp-1)\n",
    "#options        \n",
    "return base* recurPowerNew (base, exp-1)\n",
    "return gcdRecur(b, a % b)\n",
    "return 1 + lenRecur(aStr[1:])\n",
    "return isIn(char, aStr[:midno])\n",
    "\n",
    "\n",
    "#Bisection search\n",
    "def isIn(char, aStr):\n",
    "    '''\n",
    "    char: a single character\n",
    "    aStr: an alphabetized string\n",
    "    \n",
    "    returns: True if char is in aStr; False otherwise\n",
    "    '''\n",
    "    # Your code here\n",
    "\n",
    "    if aStr ==\"\":         #is in string of 1\n",
    "        return False\n",
    "    if len(aStr) == 1:\n",
    "        return aStr == char\n",
    "  \n",
    "    midno = len(aStr)/2\n",
    "    mid = aStr[midno]\n",
    "    if char == mid:\n",
    "        return True\n",
    "    elif char < mid:\n",
    "        return isIn(char, aStr[:midno])\n",
    "    else:\n",
    "        return isIn(char, aStr[midno:])"
   ]
  },
  {
   "cell_type": "code",
   "execution_count": null,
   "metadata": {
    "collapsed": true
   },
   "outputs": [],
   "source": [
    "# Error Handling\n",
    "raise ValueError\n",
    "\n",
    "##read file error\n",
    "try:\n",
    "        inFile = open(PATH_TO_FILE, 'r', 0)\n",
    "        except:\n",
    "OR\n",
    "\texcept IOError\n",
    "OR\n",
    "\texcept IOError as e\t\t# read file error\n"
   ]
  },
  {
   "cell_type": "raw",
   "metadata": {},
   "source": [
    "%%13 Game Design with Functions 14Bottom-Up Design, Turtle Graphics, Robotics"
   ]
  },
  {
   "cell_type": "code",
   "execution_count": null,
   "metadata": {
    "collapsed": true
   },
   "outputs": [],
   "source": []
  },
  {
   "cell_type": "raw",
   "metadata": {},
   "source": [
    "15Event-Driven Programming  --Functional Programming(Lamda Functions)"
   ]
  },
  {
   "cell_type": "code",
   "execution_count": null,
   "metadata": {
    "collapsed": true
   },
   "outputs": [],
   "source": []
  },
  {
   "cell_type": "code",
   "execution_count": null,
   "metadata": {
    "collapsed": true
   },
   "outputs": [],
   "source": [
    "#Add two values together\n",
    "lambda x: x[0] + x[1] or lambda (x0, x1): x0 + x1  (3, 4) it would return 7.\n",
    "lambda x, y: (x[0] + y[0], x[1] + y[1]) and lambda (x0, x1), (y0, y1): (x0 + y0, x1 + y1)  (1, 2) and (3, 4) would be the tuple (4, 6).¶\n",
    "\n",
    "a1 = lambda x: x[0] + x[1]\n",
    "a2 = lambda (x0, x1): x0 + x1\n",
    "swap1 = lambda x: (x[1], x[0])\n",
    "swap2 = lambda (x0, x1): (x1, x0)\n",
    "swapOrder = lambda x: (x[1],x[2],x[0])\n",
    "sumThree = lambda (x0, x1), (y0, y1), (z0, z1): (x0 + y0+z0, x1 + y1+z1)\n",
    "#lambda expression needs to evaluate to a value and exist on a single logical line. If more complex logic is necessary, use def in place of lambda\n",
    "# cannot be used in a lambda expression: assert, pass, del, print, return, yield, raise, break, continue, import, global, and exec.\n",
    "\n",
    "commonly used functions in functional programming are map, filter, and reduce\n",
    "# Map example\n",
    "\n",
    "# Create some data\n",
    "mapData = FunctionalWrapper(range(5))\n",
    "\n",
    "# Define a function to be applied to each element\n",
    "f = lambda x: x + 3\n",
    "\n",
    "# Imperative programming: loop through and create a new object by applying f\n",
    "mapResult = FunctionalWrapper([])  # Initialize the result\n",
    "for element in mapData:\n",
    "    mapResult.append(f(element))  # Apply f and save the new value\n",
    "print 'Result from for loop: {0}'.format(mapResult)\n",
    "\n",
    "# Functional programming: use map rather than a for loop\n",
    "print 'Result from map call: {0}'.format(mapData.map(f))\n",
    "\n",
    "# Multiply each element by 5\n",
    "mapResult = dataset.map(lambda x:x*5)\n",
    "\n",
    "# Keep the even elements\n",
    "# Note that \"x % 2\" evaluates to the remainder of x divided by 2\n",
    "filterResult = dataset.filter(lambda x: x%2==0)\n",
    "\n",
    "# Sum the elements\n",
    "reduceResult = dataset.reduce(lambda x,y: x+y)\n",
    "\n",
    "filter lambda will evaluate to True for even numbers\n",
    "evaluates to True or False and only elements that evaluate to True are retained"
   ]
  },
  {
   "cell_type": "raw",
   "metadata": {},
   "source": [
    "|| Plotting & Visulaization 16Visualizing Data and Creating Simulations"
   ]
  },
  {
   "cell_type": "code",
   "execution_count": null,
   "metadata": {
    "collapsed": true
   },
   "outputs": [],
   "source": []
  },
  {
   "cell_type": "raw",
   "metadata": {},
   "source": [
    "17Classes and Object-Oriented Programming// 18Objects with Inheritance and Polymorphism//"
   ]
  },
  {
   "cell_type": "code",
   "execution_count": 9,
   "metadata": {
    "collapsed": true
   },
   "outputs": [],
   "source": [
    "#Classes & methods http://www.greenteapress.com/thinkpython/thinkCSpy/html/chap14.html\n"
   ]
  },
  {
   "cell_type": "code",
   "execution_count": null,
   "metadata": {
    "collapsed": true
   },
   "outputs": [],
   "source": [
    "Classes\n",
    "\n",
    "Make it easier to code\n",
    "Bundled data and methods (Abstraction-Isolation)\n",
    "Inherit and/or define new behaviours (give own definition)\n",
    "\n",
    "Instances of Object (Data Types):\n",
    "-1234 is an instance of object type int (int defines behavior eg. + with 1234 and “Hello”->catenate\n",
    "Compound: list\n",
    "Abstract: dictionaries\n",
    "\n",
    "Definition\n",
    "\n",
    "Define class\n",
    "\n",
    "class Coordinate (object)\t\n",
    "\n",
    "# where object is the basic class in object\n",
    "#gets the basic methods that are in object\n",
    "#“define attributes“(procedures or instance variables)\n",
    "Define parameters\n",
    "\n",
    "def __init__(self,x,y)\t\n",
    "\n",
    "#override init method of object  # always the first argument\n",
    "\t\n",
    "#init points to a procedure#(if init not there, will go to object – broader class)\n",
    "#init auto passes init into frame\n",
    "# self will always point to a frame/instance  \n",
    "\n",
    "self.x = x\t\t\t#inside of self create a binding for x\n",
    "self.y = y\t\t\t# defining a method\n",
    "foobar = 5\t\t\t# define a variable\n",
    "\n",
    "c =Coordinate(3,4)\t\t\t#create a new instance (Invoke) of Coordinate with own \n",
    "\t\t\t\t\t#Coordinate->__init__(instance)-> procedure (self,x,y)\n",
    "\t\t\t\t\t#Frame-self <-(garba-> Frame (x=3,y=4)\n",
    "\t\t\t\t\t#C binds to-> Frame (x=3,y=4)\n",
    "\n",
    "c.__init__(5,6)\t\t\t\t#call procedure to assign\n",
    "origin = Coordinate(0,0)\t\t#call init method-> instantiate new object\n",
    "print c.x, origin.x\t\t\t\n",
    "\n",
    "Adding methods to a class\n",
    "\n",
    "Print c\n",
    ">> <__main. Coordinate object at 0x7fa918510488>\n",
    "\n",
    "\n",
    "#convert any instance into a string to print values\n",
    "\n",
    "def__str__(self):\t\t\t\t\n",
    "\treturn “<+self.x+”,”self.y+”>”\n",
    ">>print c\n",
    "<3,4>\n",
    "\n",
    "\n",
    "#what is the object type\n",
    "\n",
    ">>print type (c)\n",
    "<class.___main___.coordinate>\t\t#i.e. c is a class or coordinate\n",
    "\n",
    "\n",
    "Checking if and object is a member of a class\n",
    "\n",
    "print isinstance(c,Cordinate)\n",
    "\n",
    "Add another method\n",
    "\n",
    "Def distance(self, other):\n",
    "\tReturn math.sqrt(sq(self.x-other.x)\n",
    "\t\t+ sq(self.y – other.y)\n",
    "\n",
    "Class API Defintion\n",
    "\n",
    "1.\tDefinition of the behavior – initial state, and any constraints of what it should do \n",
    "\n",
    "Def__init__(self):\n",
    "\n",
    "2.\tInternal data representation  - list\n",
    "\n",
    "\tself.vals=[]\t\n",
    "\n",
    "3.\tInterface – insert, is member in set, remove a member from set\n",
    "\n",
    "def insert(self,e)\n",
    "\tif not e in self.vals\n",
    "\t\tself.vals.append(e)\n",
    "\t\t\tdef__str__(self):\n",
    "\t\t\t\t\"\"\"Returns a string representation of self\"\"\"\n",
    "        \t\t\t\tself.vals.sort()\n",
    "        \t\t\t\treturn '{' + ','.join([str(e) for e in self.vals]) + '}'\n",
    "\n",
    "\n",
    "Complete Class\n",
    "\n",
    "import datetime\n",
    "\n",
    "class Person(object):\n",
    "    def __init__(self, name):\n",
    "        \"\"\"create a person called name\"\"\"\n",
    "        self.name = name\n",
    "        self.birthday = None\n",
    "        self.lastName = name.split(' ')[-1]\n",
    "\n",
    "    def getLastName(self):\n",
    "        \"\"\"return self's last name\"\"\"\n",
    "        return self.lastName\n",
    "\n",
    "    def setBirthday(self,month,day,year):\n",
    "        \"\"\"sets self's birthday to birthDate\"\"\"\n",
    "        self.birthday = datetime.date(year,month,day)\n",
    "\n",
    "    def getAge(self):\n",
    "        \"\"\"returns self's current age in days\"\"\"\n",
    "        if self.birthday == None:\n",
    "            raise ValueError\n",
    "        return (datetime.date.today() - self.birthday).days\n",
    "\n",
    "\n",
    "Object-oriented Programming\n",
    "Object is a data abstract\n",
    "Object as a primitive\n",
    "Interface for interacting with object\n",
    "(python will let you reach in a class object and pull it apart)\n",
    "Delete old objects – garbage collections\n",
    "Modularity – reduces complexity\n",
    "\n",
    "Inheritance\n",
    "\n",
    "MITPerson is a subclass of person\t#Inheritence \n",
    "(MITperson has access to all characteristics/methods of person class)\n",
    "\n",
    "class MITPerson(Person):\n",
    "\n",
    "nextIdNum = 0 \t\t\t#Class attribute/binding to class, not instance of class\n",
    "\n",
    "\tnextIdNum = 0 # next ID number to assign\n",
    "    def __init__(self, name):\n",
    "\n",
    "Go to person and get its Init method, call it with ‘name” (all assoc.iwth name)\n",
    "Look in class for nextID number\n",
    "\n",
    "        Person.__init__(self, name) # initialize Person attributes\n",
    "        # new MITPerson attribute: a unique ID number\n",
    "        self.idNum = MITPerson.nextIdNum\n",
    "\n",
    "\n",
    "Increase class attribute by +1\n",
    "\n",
    "        MITPerson.nextIdNum += 1\n",
    "\n",
    "\n",
    "    def getIdNum(self):\n",
    "        return self.idNum\n",
    "\n",
    "    # sorting MIT people uses their ID number, not name!\n",
    "    def __lt__(self, other):\n",
    "        return self.idNum < other.idNum\n",
    "\n",
    "\n",
    "\n",
    "Inherits all the characteristics of MITPerson\n",
    "\n",
    "class Grad(MITPerson):\n",
    "    pass\n",
    "\n",
    "\n",
    "Less Than “<” method\n",
    "\n",
    "    def __lt__(self, other):\n",
    "        \"\"\"return True if self's ame is lexicographically\n",
    "           less than other's name, and False otherwise\"\"\"\n",
    "        if self.lastName == other.lastName:\n",
    "            return self.name < other.name\n",
    "        return self.lastName < other.lastName\n",
    "\n",
    "String method\n",
    "\n",
    "    def __str__(self):\n",
    "        \"\"\"return self's name\"\"\"\n",
    "        return self.name\n",
    "\n",
    "A class that includes instances of other classes within it - Data Structure to hold data \n",
    "\n",
    "class Grades(object):\n",
    "    \"\"\"A mapping from students to a list of grades\"\"\"\n",
    "    def __init__(self):\n",
    "        \"\"\"Create empty grade book\"\"\"\n",
    "        self.students = []  # list of Student objects\n",
    "\n",
    "A dictionary for student id and grades\n",
    "\n",
    "        self.grades = {}    # maps idNum -> list of grades\n",
    "        self.isSorted = True # true if self.students is sorted\n",
    "\n",
    "    def addStudent(self, student):\n",
    "        \"\"\"Assumes: student is of type Student\n",
    "           Add student to the grade book\"\"\"\n",
    "        if student in self.students:\n",
    "            raise ValueError('Duplicate student')\n",
    "        self.students.append(student)\n",
    "        self.grades[student.getIdNum()] = []\n",
    "        self.isSorted = False\n",
    "\n",
    "https://courses.edx.org/courses/MITx/6.00.1-x/1T2014/courseware/Week_6/videosequence:Lecture_11/ \n",
    "\n",
    "Multiple Inheritance\n",
    "Can be dangerous!!\n",
    "\n",
    "B     C    B-Mortgage plots,\tC-Object\n",
    "  \\   /\n",
    "   \tA   A-Mortgage is a subtype of at most one of B&C|A has two parents |A-subtype of C\n",
    "/     \\\n",
    "      E\n",
    "         |\n",
    "        F\n",
    "\n",
    "\n",
    "Class Library (options)\n",
    "\n",
    "def__init__(self):\t\t\t\t    #intit\n",
    "def__str__(self):\t\t\t\t    #string\n",
    "def __lt__(self, other):\t\t#less than\n",
    "\n",
    "def __init__(self, name):\n",
    "Person.__init__(self, name) \t\t   # get init method from Person (all attributes)\n",
    "\n",
    "class Drunk(object):\t\t\t\t\t#abstract class – intend to subclass\n",
    "    def __init__(self, name):\n",
    "        self.name = name\n",
    "    def __str__(self):\n",
    "        return 'This drunk is named ' + self.name\n",
    "\n",
    "\n",
    "self.vals=[]\t\t\t\t\t    #empty list\n",
    "self.students = []   \t\t\t# list of Student objects\n",
    "self.birthday = None\t\t\t\t#set default value\n",
    "nextIdNum = 0\t\t\t\t#set and increment values\n",
    "MITPerson.nextIdNum += 1\n",
    "self.grades = {}    \t\t\t#empty dictionary i.e. data structure\n",
    "self.grades[student.getIdNum()] = []\t\t# add id# to dictionary\n",
    "self.grades[student.getIdNum()].append(grade)\t# for id# add grade\n",
    "\n",
    "\n",
    "def getLastName(self):\n",
    "def insert(self,e):\n",
    "def setBirthday(self,month,day,year):\n"
   ]
  },
  {
   "cell_type": "raw",
   "metadata": {},
   "source": [
    "18.5/Refactoring Code"
   ]
  },
  {
   "cell_type": "code",
   "execution_count": null,
   "metadata": {
    "collapsed": true
   },
   "outputs": [],
   "source": []
  },
  {
   "cell_type": "code",
   "execution_count": null,
   "metadata": {
    "collapsed": true
   },
   "outputs": [],
   "source": [
    "#Testing\n",
    "\n",
    "#Black Box Test Suites\n",
    "\n",
    "Black-box testing is a method of software testing that tests the functionality of an application. Recall from the lecture that a way to think about black-box testing is to look at both:\n",
    "    The possible paths through the specification.\n",
    "    The possible boundary cases.\n",
    "Undoubtably many - if not all - of the listed tests look like they would be pretty good for testing the function size. However, we want you to think critically about the way size is specified - including possible boundary cases - and pick a set of tests that adequately and fully tests all paths and boundary conditions. Be sure the set of tests you pick does not have extraneous, useless, or repetitive tests.\n",
    "\n",
    "#Review: Glass Box Test Suites\n",
    "\n",
    "Recall from the lecture that a path-complete glass box test suite would find test cases that go through every possible path in the code. This is different from black-box testing, because in black-box testing you only have the function specification. For glass-box testing, you actually know how the function you are testing is defined. Thus you can use this definition to figure out how many different paths through the code exist, and then pick a test suite based on that knowledge.\n",
    "Undoubtably many - if not all - of the listed tests look like they would be pretty good for testing the function maxOfThree. However, we want you to think critically about the way maxOfThree is defined - including possible boundary cases - and pick a set of tests that adequetly and fully tests all paths and boundary conditions. A good first step will be to look at the function definition and figure out what paths through the code exist. Then, look through the suggested test suites one test at a time and see if the suite tests every single path.\n"
   ]
  },
  {
   "cell_type": "raw",
   "metadata": {},
   "source": [
    "/Adding Persistence /Other Database Options 19Data Structures: Stack, Queue, Dictionary, Set/ /Representing Records-Dictionaries 19.5/Storing Records Persistently //Databases and persistence"
   ]
  },
  {
   "cell_type": "code",
   "execution_count": null,
   "metadata": {
    "collapsed": true
   },
   "outputs": [],
   "source": []
  },
  {
   "cell_type": "raw",
   "metadata": {},
   "source": [
    "20Algorithms: Searching and Sorting 21Recursion and Running Times @ 22Graphs and Trees,Graph Search and a Word Game/@//datastructures - stacks, sets, subclassing, binary search trees, graph searching, permuting sequences, reverse/sort"
   ]
  },
  {
   "cell_type": "code",
   "execution_count": null,
   "metadata": {
    "collapsed": true
   },
   "outputs": [],
   "source": [
    "#Algorithm Complexity/efficient computation\n",
    "Time (depends on pc, implementation, value of input)=# of basic steps\n",
    "Memory\n",
    "#Random access machine (RAM)-remove aspects of the machine/count basic steps\n",
    "#1.steps executed sequentially, 2. steps take contant time(assignmetn, comparison, arith. operation, accessing object in memory)\n",
    "#3.input size: **worst case/upper bound, #best cases, average/expected case \n",
    "assignment = 1 step\n",
    "*=, -= => 2 steps\n",
    "return = 1step\n",
    "5n+2 =>5n => drop constant are negligable, drop 5 is not relevant when comparing algorithms 1/8 billion vs. 30/300 \n",
    "#focus on teh largest factor, and worst case scenario\n",
    "eg. 1000+2x+2x^2, if x= small+1000 dominates, if x=large, consider dominant terms =2x^2\n",
    "\n",
    "    ==order of growth is most important==\n",
    "#Big O notation/in order of increasing complexity (be as high up in chain as possible):\n",
    "O(1)#contant\n",
    "O(log n) #log-grows as log of size of one of its inputs eg. Bisection/binary search 10->5->3->1\n",
    "O(n) #linear\n",
    "O(n log n) #log-linear \n",
    "O(n^c) #polynomial /quadratic     #nested loops and some recursive calls\n",
    "Oc^n #exponential\n",
    "    \n",
    "#use upper bound as class\n",
    "#Express your answer in terms of n, the size of the input x\n"
   ]
  },
  {
   "cell_type": "code",
   "execution_count": null,
   "metadata": {
    "collapsed": true
   },
   "outputs": [],
   "source": []
  },
  {
   "cell_type": "raw",
   "metadata": {},
   "source": [
    "@ 24Parallel Computing Is Here //parallel system tools p177"
   ]
  },
  {
   "cell_type": "code",
   "execution_count": null,
   "metadata": {
    "collapsed": true
   },
   "outputs": [],
   "source": []
  },
  {
   "cell_type": "raw",
   "metadata": {},
   "source": [
    "@ python C integration-Numba (@jit) ||Cython pg 378 || f2py p378 || C pg 378"
   ]
  },
  {
   "cell_type": "code",
   "execution_count": null,
   "metadata": {
    "collapsed": true
   },
   "outputs": [],
   "source": [
    "Numba 1.18 vs 1.95 (Java)/ 0.73 (C++)\n",
    "\n",
    "Cython 1.03 vs 1.95 (Java)/ 0.73 (C++)\n"
   ]
  },
  {
   "cell_type": "raw",
   "metadata": {},
   "source": [
    "//Adding Console Interactionp37 //GUI p355 //Web interface\n"
   ]
  },
  {
   "cell_type": "code",
   "execution_count": null,
   "metadata": {
    "collapsed": true
   },
   "outputs": [],
   "source": []
  },
  {
   "cell_type": "raw",
   "metadata": {},
   "source": [
    "//System programmingp73 //Script execution //FIle & directory tools p4 //system programs p6"
   ]
  },
  {
   "cell_type": "code",
   "execution_count": null,
   "metadata": {
    "collapsed": true
   },
   "outputs": [],
   "source": []
  },
  {
   "cell_type": "raw",
   "metadata": {},
   "source": [
    "//Internet/network scripting //internet/client-side scripting //internet/pyMail GUi client //Server-sde scripting //internet/pymail GUI server"
   ]
  },
  {
   "cell_type": "code",
   "execution_count": null,
   "metadata": {
    "collapsed": true
   },
   "outputs": [],
   "source": []
  },
  {
   "cell_type": "markdown",
   "metadata": {
    "collapsed": true
   },
   "source": [
    "# API - Get data"
   ]
  },
  {
   "cell_type": "code",
   "execution_count": null,
   "metadata": {
    "collapsed": true
   },
   "outputs": [],
   "source": [
    "python-API\n",
    "https://www.youtube.com/watch?v=pxofwuWTs7c\n",
    "\n",
    "copy API key\n",
    "\n",
    "locu_api =  “ “\n",
    "\n",
    "API console \n",
    "\n",
    "Example Query: https://api.locu.com/v1_0/venue/search/?locality=Newport%20Beach&category=restaurant&api_key=9f…..\n",
    "\n",
    "import urllib2   # function to open a url\n",
    "import json    #\n",
    "\n",
    "url=http://api….)\n",
    "json_obj = urlli2.open(url)\n",
    "data = json.load(json_obj\n",
    "\n",
    "print data[‘objects’]\n",
    "\n",
    "for item in data[‘objects’]\n",
    "\tprint “item is: “  +str(item)\t\t# each item is it’s own separate line item\n",
    "\tprint item[“name”]\n",
    "\tprint item[“phone”]\n",
    "\n",
    "=====\n",
    "\n",
    "locu_api = “htpp://api.locu…..93f’\n",
    "\n",
    "def locu_search(query):\n",
    "\tapi_key = locu_api\n",
    "\turl = ‘http://api ……   ‘ + api_key\n",
    "\tlocality =query.replace(‘ ‘, ‘%20’)\n",
    "\tfinal url = url + “&locality=” + locality + &category=restaurant”\n",
    "\tjson_obj =urllib2.urlopen(final_url)\n",
    "\tdata = json.load(json_obj)\n",
    "\n",
    "for item in data[‘objects’]\n",
    "\t\tprint item[“name”], item[“phone”]\t\t# try statements in case phone is absent\n",
    "\n",
    "locu_search(‘New York’):\n"
   ]
  },
  {
   "cell_type": "code",
   "execution_count": null,
   "metadata": {
    "collapsed": true
   },
   "outputs": [],
   "source": []
  }
 ],
 "metadata": {
  "kernelspec": {
   "display_name": "R",
   "language": "R",
   "name": "ir"
  },
  "language_info": {
   "codemirror_mode": "r",
   "file_extension": ".r",
   "mimetype": "text/x-r-source",
   "name": "R",
   "pygments_lexer": "r",
   "version": "3.2.3"
  }
 },
 "nbformat": 4,
 "nbformat_minor": 0
}
